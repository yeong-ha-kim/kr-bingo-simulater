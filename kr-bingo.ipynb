{
 "cells": [
  {
   "cell_type": "code",
   "execution_count": 1,
   "metadata": {},
   "outputs": [],
   "source": [
    "import numpy as np\n",
    "import random\n",
    "import matplotlib.pyplot as plt\n",
    "import math\n",
    "from colour import Color\n",
    "\n",
    "maximum = 25              #Number of maximum bingo size(Not recommand edit this)\n",
    "activation = 0            #Activated bingo count(You shoud edit this value)\n",
    "try_count = 5000          #Bingo simulation try count(The higher the value, the higher the accuracy, but the slower the processing speed.)\n",
    "expend = 30               #Batteries consumed per bingo\n",
    "try_data = []\n",
    "bingo_board = []"
   ]
  },
  {
   "cell_type": "code",
   "execution_count": 3,
   "metadata": {},
   "outputs": [],
   "source": [
    "#활성화된 수 만큼 빙고칸 채우기\n",
    "while len(bingo_board)  < activation:\n",
    "    num = random.randint(1, maximum)\n",
    "    if not num in bingo_board:\n",
    "        bingo_board.append(num)\n",
    "    #end if\n",
    "#end while"
   ]
  },
  {
   "cell_type": "code",
   "execution_count": 4,
   "metadata": {},
   "outputs": [],
   "source": [
    "#채워진 빙고칸은 저장\n",
    "board_temp = bingo_board.copy()\n",
    "\n",
    "for i in range(try_count):\n",
    "    tc = 0\n",
    "    bingo_board = board_temp.copy()\n",
    "    \n",
    "    #님은 빙고칸 다 채우기\n",
    "    while len(bingo_board) < maximum:\n",
    "        num = random.randint(1, maximum)\n",
    "        \n",
    "        #숫자가 중복되지 않으면 값 추가\n",
    "        if not num in bingo_board:\n",
    "            bingo_board.append(num)\n",
    "        #end if\n",
    "        \n",
    "        #카운트 증가\n",
    "        tc += 1\n",
    "    #end while\n",
    "    try_data.append(tc)\n",
    "#end for"
   ]
  },
  {
   "cell_type": "code",
   "execution_count": 5,
   "metadata": {},
   "outputs": [
    {
     "data": {
      "image/png": "[encoded data removed]",
      "text/plain": [
       "<Figure size 432x288 with 1 Axes>"
      ]
     },
     "metadata": {
      "needs_background": "light"
     },
     "output_type": "display_data"
    }
   ],
   "source": [
    "#전체 밀도 추출\n",
    "\n",
    "density_data = []\n",
    "x_ticks = []\n",
    "sampling_size = 1\n",
    "try_data_max = try_data[np.argmax(try_data)]\n",
    "sampling_count = (int(try_data_max / sampling_size) + int(try_data_max % sampling_size == 0))\n",
    "\n",
    "for i in range(sampling_count):\n",
    "    from_size = i * sampling_size\n",
    "    to_size = (sampling_size - 1) + (sampling_size * (i))\n",
    "    x_ticks.append(from_size)\n",
    "    density = 0\n",
    "    \n",
    "    for j in range(len(try_data)):\n",
    "        if from_size <= try_data[j] and try_data[j] <= to_size:\n",
    "            density += 1\n",
    "        #end for\n",
    "    #end for\n",
    "    \n",
    "    density_data.append(density)\n",
    "#end for\n",
    "\n",
    "#density_data = resize_ary(density_data, try_data_max)\n",
    "plt.rc('font', family='Malgun Gothic')\n",
    "plt.title(\"빙고 시뮬레이션 분포\")\n",
    "plt.xlabel(\"시도 횟수\")\n",
    "plt.ylabel(\"유저 수\")\n",
    "plt.plot(density_data)\n",
    "plt.show()"
   ]
  },
  {
   "cell_type": "code",
   "execution_count": 6,
   "metadata": {},
   "outputs": [
    {
     "data": {
      "image/png": "[encoded data removed]",
      "text/plain": [
       "<Figure size 1008x72 with 1 Axes>"
      ]
     },
     "metadata": {
      "needs_background": "light"
     },
     "output_type": "display_data"
    },
    {
     "name": "stdout",
     "output_type": "stream",
     "text": [
      "평균:95\n",
      "소모:2850\n"
     ]
    }
   ],
   "source": [
    "density_max = density_data[np.argmax(density_data)]\n",
    "color_gradients = list(Color(\"purple\").range_to(Color(\"red\"), density_max + 1))\n",
    "\n",
    "plt.figure(figsize=(14, 1))\n",
    "plt.rc('font', family='Malgun Gothic')\n",
    "plt.title(\"빙고 시뮬레이션 스팩트럼\")\n",
    "plt.yticks([])\n",
    "plt.xlim((0, len(density_data)))\n",
    "plt.xlabel(\"시도 횟수\")\n",
    "\n",
    "for i in range(len(density_data)):\n",
    "    plt.axvline(i, linewidth=5, color=str(color_gradients[density_data[i]]))\n",
    "plt.show()\n",
    "\n",
    "average = round(np.average(try_data))\n",
    "print(\"빙고횟수 평균 :\" + str(average))\n",
    "print(\"평균 소모 건전지:\" + str(average * expend))"
   ]
  },
  {
   "cell_type": "code",
   "execution_count": null,
   "metadata": {},
   "outputs": [],
   "source": []
  }
 ],
 "metadata": {
  "kernelspec": {
   "display_name": "Python [conda env:tensorflow_env] *",
   "language": "python",
   "name": "conda-env-tensorflow_env-py"
  },
  "language_info": {
   "codemirror_mode": {
    "name": "ipython",
    "version": 3
   },
   "file_extension": ".py",
   "mimetype": "text/x-python",
   "name": "python",
   "nbconvert_exporter": "python",
   "pygments_lexer": "ipython3",
   "version": "3.7.7"
  }
 },
 "nbformat": 4,
 "nbformat_minor": 4
}
